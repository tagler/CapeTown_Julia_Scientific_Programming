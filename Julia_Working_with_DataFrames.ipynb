{
 "cells": [
  {
   "cell_type": "markdown",
   "metadata": {},
   "source": [
    "# Julia Scientific Programming - Working with DataFrames"
   ]
  },
  {
   "cell_type": "markdown",
   "metadata": {},
   "source": [
    "University of Cape Town (via Coursera) "
   ]
  },
  {
   "cell_type": "markdown",
   "metadata": {},
   "source": [
    "### Methods"
   ]
  },
  {
   "cell_type": "code",
   "execution_count": 1,
   "metadata": {
    "collapsed": true
   },
   "outputs": [
    {
     "name": "stderr",
     "output_type": "stream",
     "text": [
      "\u001b[1m\u001b[34mINFO: Nothing to be done\n",
      "\u001b[0m"
     ]
    }
   ],
   "source": [
    "Pkg.add(\"Distributions\")"
   ]
  },
  {
   "cell_type": "code",
   "execution_count": 2,
   "metadata": {
    "collapsed": true
   },
   "outputs": [
    {
     "name": "stderr",
     "output_type": "stream",
     "text": [
      "\u001b[1m\u001b[34mINFO: Nothing to be done\n",
      "\u001b[0m"
     ]
    }
   ],
   "source": [
    "Pkg.add(\"DataFrames\")"
   ]
  },
  {
   "cell_type": "code",
   "execution_count": 3,
   "metadata": {
    "collapsed": true
   },
   "outputs": [
    {
     "name": "stderr",
     "output_type": "stream",
     "text": [
      "WARNING: New definition \n",
      "    any(Any, Lazy.List) at /home/juser/.julia/v0.4/Lazy/src/liblazy.jl:184\n",
      "is ambiguous with: \n",
      "    any(Base.Predicate, Any) at reduce.jl:362.\n",
      "To fix, define \n",
      "    any(Base.Predicate, Lazy.List)\n",
      "before the new definition.\n",
      "WARNING: New definition \n",
      "    any(Any, Lazy.List) at /home/juser/.julia/v0.4/Lazy/src/liblazy.jl:184\n",
      "is ambiguous with: \n",
      "    any(Base.IdFun, Any) at reduce.jl:363.\n",
      "To fix, define \n",
      "    any(Base.IdFun, Lazy.List)\n",
      "before the new definition.\n",
      "WARNING: New definition \n",
      "    any(Any, Lazy.List) at /home/juser/.julia/v0.4/Lazy/src/liblazy.jl:184\n",
      "is ambiguous with: \n",
      "    any(AbstractArray, Any) at reducedim.jl:264.\n",
      "To fix, define \n",
      "    any(AbstractArray, Lazy.List)\n",
      "before the new definition.\n",
      "WARNING: New definition \n",
      "    all(Any, Lazy.List) at /home/juser/.julia/v0.4/Lazy/src/liblazy.jl:187\n",
      "is ambiguous with: \n",
      "    all(Base.Predicate, Any) at reduce.jl:369.\n",
      "To fix, define \n",
      "    all(Base.Predicate, Lazy.List)\n",
      "before the new definition.\n",
      "WARNING: New definition \n",
      "    all(Any, Lazy.List) at /home/juser/.julia/v0.4/Lazy/src/liblazy.jl:187\n",
      "is ambiguous with: \n",
      "    all(Base.IdFun, Any) at reduce.jl:370.\n",
      "To fix, define \n",
      "    all(Base.IdFun, Lazy.List)\n",
      "before the new definition.\n",
      "WARNING: New definition \n",
      "    all(Any, Lazy.List) at /home/juser/.julia/v0.4/Lazy/src/liblazy.jl:187\n",
      "is ambiguous with: \n",
      "    all(AbstractArray, Any) at reducedim.jl:264.\n",
      "To fix, define \n",
      "    all(AbstractArray, Lazy.List)\n",
      "before the new definition.\n"
     ]
    }
   ],
   "source": [
    "using Distributions, DataFrames"
   ]
  },
  {
   "cell_type": "code",
   "execution_count": 4,
   "metadata": {
    "collapsed": false
   },
   "outputs": [
    {
     "data": {
      "text/plain": [
       "MersenneTwister(Base.dSFMT.DSFMT_state(Int32[-1393240018,1073611148,45497681,1072875908,436273599,1073674613,-2043716458,1073445557,-254908435,1072827086  …  -599655111,1073144102,367655457,1072985259,-1278750689,1018350124,-597141475,249849711,382,0]),[2.33996e-310,0.0,2.33996e-310,0.0,2.33996e-310,0.0,2.33996e-310,0.0,2.33996e-310,0.0  …  5.20191e-316,5.20191e-316,4.94066e-324,NaN,0.0,0.0,4.98906e-316,4.98906e-316,4.98906e-316,4.94066e-324],382,UInt32[0x000004d2])"
      ]
     },
     "execution_count": 4,
     "metadata": {},
     "output_type": "execute_result"
    }
   ],
   "source": [
    "# random seed\n",
    "srand(1234)"
   ]
  },
  {
   "cell_type": "markdown",
   "metadata": {},
   "source": [
    "### Data Analysis "
   ]
  },
  {
   "cell_type": "code",
   "execution_count": 5,
   "metadata": {
    "collapsed": true
   },
   "outputs": [
    {
     "data": {
      "text/plain": [
       "30x3 Array{Float64,2}:\n",
       "  0.867347    7.44066   6.0\n",
       " -0.901744   11.9946    5.0\n",
       " -0.494479   10.6048   13.0\n",
       " -0.902914    9.92711   8.0\n",
       "  0.864401   10.2839    5.0\n",
       "  2.21188    11.0425   12.0\n",
       "  0.532813   11.7935    6.0\n",
       " -0.271735    8.97294   7.0\n",
       "  0.502334    8.4704    8.0\n",
       " -0.516984    6.91715   9.0\n",
       " -0.560501    9.83968  13.0\n",
       " -0.0192918   7.81756  15.0\n",
       "  0.128064    8.83897  12.0\n",
       "  ⋮                        \n",
       "  0.0721164   7.98043  13.0\n",
       " -1.50343     8.91239  11.0\n",
       "  1.56417     7.54655   6.0\n",
       " -1.39674     8.91657   9.0\n",
       "  1.1055      8.62701   7.0\n",
       " -1.10673     8.57414   9.0\n",
       " -3.21136     9.34588   5.0\n",
       " -0.0740145  11.0297   15.0\n",
       "  0.150976   14.8349   11.0\n",
       "  0.769278    9.38405   6.0\n",
       " -0.310153   12.4906    6.0\n",
       " -0.602707    9.9001   12.0"
      ]
     },
     "execution_count": 5,
     "metadata": {},
     "output_type": "execute_result"
    }
   ],
   "source": [
    "# create random 3 x 30 array \n",
    "    # first column: standard normal distrubtion (mean = 0 and std = 1)\n",
    "    # second column: standard normal distrubtion (mean = 10 and std = 2)\n",
    "    # third column: random values between/including 5-15\n",
    "array_1 = [rand(Normal(0,1),30) rand(Normal(10,2),30) rand(5:15,30)]"
   ]
  },
  {
   "cell_type": "code",
   "execution_count": 6,
   "metadata": {
    "collapsed": false
   },
   "outputs": [
    {
     "name": "stdout",
     "output_type": "stream",
     "text": [
      "Column 1 mean: -0.0616749637525261 variance: 1.1790054448274625 standard deviation: 1.0858201714959355\n"
     ]
    }
   ],
   "source": [
    "# mean and variance of column 1\n",
    "println(\"Column 1 mean: \", mean(array_1[:,1]), \n",
    "        \" variance: \", var(array_1[:,1]), \n",
    "        \" standard deviation: \", std(array_1[:,1]))"
   ]
  },
  {
   "cell_type": "code",
   "execution_count": 7,
   "metadata": {
    "collapsed": false
   },
   "outputs": [
    {
     "name": "stdout",
     "output_type": "stream",
     "text": [
      "Column 2 mean: 9.58061305561334 variance: 2.9487900775367386 standard deviation: 1.7172041455624134\n"
     ]
    }
   ],
   "source": [
    "# mean and variance of column 2\n",
    "println(\"Column 2 mean: \", mean(array_1[:,2]), \n",
    "        \" variance: \", var(array_1[:,2]), \n",
    "        \" standard deviation: \", std(array_1[:,2]))"
   ]
  },
  {
   "cell_type": "code",
   "execution_count": 8,
   "metadata": {
    "collapsed": false
   },
   "outputs": [
    {
     "name": "stdout",
     "output_type": "stream",
     "text": [
      "Column 3 mean: 9.366666666666667 variance: 10.24022988505747 standard deviation: 3.200035919338636\n"
     ]
    }
   ],
   "source": [
    "# mean and variance of column 3\n",
    "println(\"Column 3 mean: \", mean(array_1[:,3]), \n",
    "        \" variance: \", var(array_1[:,3]), \n",
    "        \" standard deviation: \", std(array_1[:,3]))"
   ]
  },
  {
   "cell_type": "code",
   "execution_count": 9,
   "metadata": {
    "collapsed": false
   },
   "outputs": [
    {
     "data": {
      "text/html": [
       "<table class=\"data-frame\"><thead><tr><th></th><th>x1</th><th>x2</th><th>x3</th></tr></thead><tbody><tr><th>1</th><td>0.8673472019512456</td><td>7.440655579563235</td><td>6.0</td></tr><tr><th>2</th><td>-0.9017438158568171</td><td>11.994634311315009</td><td>5.0</td></tr><tr><th>3</th><td>-0.4944787535042339</td><td>10.604845018085948</td><td>13.0</td></tr><tr><th>4</th><td>-0.9029142938652416</td><td>9.927108010945586</td><td>8.0</td></tr><tr><th>5</th><td>0.8644013132535154</td><td>10.283948516769684</td><td>5.0</td></tr><tr><th>6</th><td>2.2118774995743475</td><td>11.042545312936102</td><td>12.0</td></tr><tr><th>7</th><td>0.5328132821695382</td><td>11.793495646383247</td><td>6.0</td></tr><tr><th>8</th><td>-0.27173539603462066</td><td>8.972940207609543</td><td>7.0</td></tr><tr><th>9</th><td>0.5023344963886675</td><td>8.470402990246841</td><td>8.0</td></tr><tr><th>10</th><td>-0.5169836206932686</td><td>6.917147232105508</td><td>9.0</td></tr><tr><th>11</th><td>-0.5605013381807765</td><td>9.839675028109456</td><td>13.0</td></tr><tr><th>12</th><td>-0.019291781689849075</td><td>7.817561571472174</td><td>15.0</td></tr><tr><th>13</th><td>0.12806443451512645</td><td>8.838966909913154</td><td>12.0</td></tr><tr><th>14</th><td>1.852782957725545</td><td>9.369125507803343</td><td>11.0</td></tr><tr><th>15</th><td>-0.8277634318169205</td><td>7.277104750127766</td><td>14.0</td></tr><tr><th>16</th><td>0.11009612632217552</td><td>9.771085599530537</td><td>7.0</td></tr><tr><th>17</th><td>-0.2511757400198831</td><td>10.331673935031448</td><td>8.0</td></tr><tr><th>18</th><td>0.3697140350317453</td><td>9.183123935614699</td><td>12.0</td></tr><tr><th>19</th><td>0.07211635315125874</td><td>7.980432962997206</td><td>13.0</td></tr><tr><th>20</th><td>-1.503429457351051</td><td>8.912390302719606</td><td>11.0</td></tr><tr><th>21</th><td>1.5641682355362416</td><td>7.546550547981303</td><td>6.0</td></tr><tr><th>22</th><td>-1.3967353668333795</td><td>8.916568560491257</td><td>9.0</td></tr><tr><th>23</th><td>1.1054978391059092</td><td>8.627012926971657</td><td>7.0</td></tr><tr><th>24</th><td>-1.1067299135255761</td><td>8.57413607699503</td><td>9.0</td></tr><tr><th>25</th><td>-3.2113596499239088</td><td>9.345882207826492</td><td>5.0</td></tr><tr><th>26</th><td>-0.07401454242444336</td><td>11.029672333898263</td><td>15.0</td></tr><tr><th>27</th><td>0.1509756176321479</td><td>14.83494669573609</td><td>11.0</td></tr><tr><th>28</th><td>0.7692782605345824</td><td>9.384052680112044</td><td>6.0</td></tr><tr><th>29</th><td>-0.31015257323306406</td><td>12.490606771714688</td><td>6.0</td></tr><tr><th>30</th><td>-0.6027068905147959</td><td>9.900099537393276</td><td>12.0</td></tr></tbody></table>"
      ],
      "text/plain": [
       "30×3 DataFrames.DataFrame\n",
       "│ Row │ x1         │ x2      │ x3   │\n",
       "├─────┼────────────┼─────────┼──────┤\n",
       "│ 1   │ 0.867347   │ 7.44066 │ 6.0  │\n",
       "│ 2   │ -0.901744  │ 11.9946 │ 5.0  │\n",
       "│ 3   │ -0.494479  │ 10.6048 │ 13.0 │\n",
       "│ 4   │ -0.902914  │ 9.92711 │ 8.0  │\n",
       "│ 5   │ 0.864401   │ 10.2839 │ 5.0  │\n",
       "│ 6   │ 2.21188    │ 11.0425 │ 12.0 │\n",
       "│ 7   │ 0.532813   │ 11.7935 │ 6.0  │\n",
       "│ 8   │ -0.271735  │ 8.97294 │ 7.0  │\n",
       "│ 9   │ 0.502334   │ 8.4704  │ 8.0  │\n",
       "│ 10  │ -0.516984  │ 6.91715 │ 9.0  │\n",
       "│ 11  │ -0.560501  │ 9.83968 │ 13.0 │\n",
       "⋮\n",
       "│ 19  │ 0.0721164  │ 7.98043 │ 13.0 │\n",
       "│ 20  │ -1.50343   │ 8.91239 │ 11.0 │\n",
       "│ 21  │ 1.56417    │ 7.54655 │ 6.0  │\n",
       "│ 22  │ -1.39674   │ 8.91657 │ 9.0  │\n",
       "│ 23  │ 1.1055     │ 8.62701 │ 7.0  │\n",
       "│ 24  │ -1.10673   │ 8.57414 │ 9.0  │\n",
       "│ 25  │ -3.21136   │ 9.34588 │ 5.0  │\n",
       "│ 26  │ -0.0740145 │ 11.0297 │ 15.0 │\n",
       "│ 27  │ 0.150976   │ 14.8349 │ 11.0 │\n",
       "│ 28  │ 0.769278   │ 9.38405 │ 6.0  │\n",
       "│ 29  │ -0.310153  │ 12.4906 │ 6.0  │\n",
       "│ 30  │ -0.602707  │ 9.9001  │ 12.0 │"
      ]
     },
     "execution_count": 9,
     "metadata": {},
     "output_type": "execute_result"
    }
   ],
   "source": [
    "# import array_1 into a DataFrame\n",
    "df = DataFrame(array_1)"
   ]
  },
  {
   "cell_type": "code",
   "execution_count": 10,
   "metadata": {
    "collapsed": false
   },
   "outputs": [
    {
     "data": {
      "text/html": [
       "<table class=\"data-frame\"><thead><tr><th></th><th>Var1</th><th>Var2</th><th>Var3</th></tr></thead><tbody><tr><th>1</th><td>0.8673472019512456</td><td>7.440655579563235</td><td>6.0</td></tr><tr><th>2</th><td>-0.9017438158568171</td><td>11.994634311315009</td><td>5.0</td></tr><tr><th>3</th><td>-0.4944787535042339</td><td>10.604845018085948</td><td>13.0</td></tr><tr><th>4</th><td>-0.9029142938652416</td><td>9.927108010945586</td><td>8.0</td></tr><tr><th>5</th><td>0.8644013132535154</td><td>10.283948516769684</td><td>5.0</td></tr><tr><th>6</th><td>2.2118774995743475</td><td>11.042545312936102</td><td>12.0</td></tr><tr><th>7</th><td>0.5328132821695382</td><td>11.793495646383247</td><td>6.0</td></tr><tr><th>8</th><td>-0.27173539603462066</td><td>8.972940207609543</td><td>7.0</td></tr><tr><th>9</th><td>0.5023344963886675</td><td>8.470402990246841</td><td>8.0</td></tr><tr><th>10</th><td>-0.5169836206932686</td><td>6.917147232105508</td><td>9.0</td></tr><tr><th>11</th><td>-0.5605013381807765</td><td>9.839675028109456</td><td>13.0</td></tr><tr><th>12</th><td>-0.019291781689849075</td><td>7.817561571472174</td><td>15.0</td></tr><tr><th>13</th><td>0.12806443451512645</td><td>8.838966909913154</td><td>12.0</td></tr><tr><th>14</th><td>1.852782957725545</td><td>9.369125507803343</td><td>11.0</td></tr><tr><th>15</th><td>-0.8277634318169205</td><td>7.277104750127766</td><td>14.0</td></tr><tr><th>16</th><td>0.11009612632217552</td><td>9.771085599530537</td><td>7.0</td></tr><tr><th>17</th><td>-0.2511757400198831</td><td>10.331673935031448</td><td>8.0</td></tr><tr><th>18</th><td>0.3697140350317453</td><td>9.183123935614699</td><td>12.0</td></tr><tr><th>19</th><td>0.07211635315125874</td><td>7.980432962997206</td><td>13.0</td></tr><tr><th>20</th><td>-1.503429457351051</td><td>8.912390302719606</td><td>11.0</td></tr><tr><th>21</th><td>1.5641682355362416</td><td>7.546550547981303</td><td>6.0</td></tr><tr><th>22</th><td>-1.3967353668333795</td><td>8.916568560491257</td><td>9.0</td></tr><tr><th>23</th><td>1.1054978391059092</td><td>8.627012926971657</td><td>7.0</td></tr><tr><th>24</th><td>-1.1067299135255761</td><td>8.57413607699503</td><td>9.0</td></tr><tr><th>25</th><td>-3.2113596499239088</td><td>9.345882207826492</td><td>5.0</td></tr><tr><th>26</th><td>-0.07401454242444336</td><td>11.029672333898263</td><td>15.0</td></tr><tr><th>27</th><td>0.1509756176321479</td><td>14.83494669573609</td><td>11.0</td></tr><tr><th>28</th><td>0.7692782605345824</td><td>9.384052680112044</td><td>6.0</td></tr><tr><th>29</th><td>-0.31015257323306406</td><td>12.490606771714688</td><td>6.0</td></tr><tr><th>30</th><td>-0.6027068905147959</td><td>9.900099537393276</td><td>12.0</td></tr></tbody></table>"
      ],
      "text/plain": [
       "30×3 DataFrames.DataFrame\n",
       "│ Row │ Var1       │ Var2    │ Var3 │\n",
       "├─────┼────────────┼─────────┼──────┤\n",
       "│ 1   │ 0.867347   │ 7.44066 │ 6.0  │\n",
       "│ 2   │ -0.901744  │ 11.9946 │ 5.0  │\n",
       "│ 3   │ -0.494479  │ 10.6048 │ 13.0 │\n",
       "│ 4   │ -0.902914  │ 9.92711 │ 8.0  │\n",
       "│ 5   │ 0.864401   │ 10.2839 │ 5.0  │\n",
       "│ 6   │ 2.21188    │ 11.0425 │ 12.0 │\n",
       "│ 7   │ 0.532813   │ 11.7935 │ 6.0  │\n",
       "│ 8   │ -0.271735  │ 8.97294 │ 7.0  │\n",
       "│ 9   │ 0.502334   │ 8.4704  │ 8.0  │\n",
       "│ 10  │ -0.516984  │ 6.91715 │ 9.0  │\n",
       "│ 11  │ -0.560501  │ 9.83968 │ 13.0 │\n",
       "⋮\n",
       "│ 19  │ 0.0721164  │ 7.98043 │ 13.0 │\n",
       "│ 20  │ -1.50343   │ 8.91239 │ 11.0 │\n",
       "│ 21  │ 1.56417    │ 7.54655 │ 6.0  │\n",
       "│ 22  │ -1.39674   │ 8.91657 │ 9.0  │\n",
       "│ 23  │ 1.1055     │ 8.62701 │ 7.0  │\n",
       "│ 24  │ -1.10673   │ 8.57414 │ 9.0  │\n",
       "│ 25  │ -3.21136   │ 9.34588 │ 5.0  │\n",
       "│ 26  │ -0.0740145 │ 11.0297 │ 15.0 │\n",
       "│ 27  │ 0.150976   │ 14.8349 │ 11.0 │\n",
       "│ 28  │ 0.769278   │ 9.38405 │ 6.0  │\n",
       "│ 29  │ -0.310153  │ 12.4906 │ 6.0  │\n",
       "│ 30  │ -0.602707  │ 9.9001  │ 12.0 │"
      ]
     },
     "execution_count": 10,
     "metadata": {},
     "output_type": "execute_result"
    }
   ],
   "source": [
    "# change column names to Var1, Var2, and Var3\n",
    "rename!(df, [:x1,:x2,:x3], [:Var1,:Var2,:Var3])\n",
    "df"
   ]
  },
  {
   "cell_type": "code",
   "execution_count": 11,
   "metadata": {
    "collapsed": false
   },
   "outputs": [
    {
     "data": {
      "text/html": [
       "<table class=\"data-frame\"><thead><tr><th></th><th>Var1</th><th>Var2</th><th>Var3</th></tr></thead><tbody><tr><th>1</th><td>-0.5605013381807765</td><td>9.839675028109456</td><td>13.0</td></tr><tr><th>2</th><td>-0.019291781689849075</td><td>7.817561571472174</td><td>15.0</td></tr><tr><th>3</th><td>0.12806443451512645</td><td>8.838966909913154</td><td>12.0</td></tr><tr><th>4</th><td>1.852782957725545</td><td>9.369125507803343</td><td>11.0</td></tr><tr><th>5</th><td>-0.8277634318169205</td><td>7.277104750127766</td><td>14.0</td></tr><tr><th>6</th><td>0.11009612632217552</td><td>9.771085599530537</td><td>7.0</td></tr><tr><th>7</th><td>-0.2511757400198831</td><td>10.331673935031448</td><td>8.0</td></tr><tr><th>8</th><td>0.3697140350317453</td><td>9.183123935614699</td><td>12.0</td></tr><tr><th>9</th><td>0.07211635315125874</td><td>7.980432962997206</td><td>13.0</td></tr><tr><th>10</th><td>-1.503429457351051</td><td>8.912390302719606</td><td>11.0</td></tr><tr><th>11</th><td>1.5641682355362416</td><td>7.546550547981303</td><td>6.0</td></tr><tr><th>12</th><td>-1.3967353668333795</td><td>8.916568560491257</td><td>9.0</td></tr><tr><th>13</th><td>1.1054978391059092</td><td>8.627012926971657</td><td>7.0</td></tr><tr><th>14</th><td>-1.1067299135255761</td><td>8.57413607699503</td><td>9.0</td></tr><tr><th>15</th><td>-3.2113596499239088</td><td>9.345882207826492</td><td>5.0</td></tr><tr><th>16</th><td>-0.07401454242444336</td><td>11.029672333898263</td><td>15.0</td></tr><tr><th>17</th><td>0.1509756176321479</td><td>14.83494669573609</td><td>11.0</td></tr><tr><th>18</th><td>0.7692782605345824</td><td>9.384052680112044</td><td>6.0</td></tr><tr><th>19</th><td>-0.31015257323306406</td><td>12.490606771714688</td><td>6.0</td></tr><tr><th>20</th><td>-0.6027068905147959</td><td>9.900099537393276</td><td>12.0</td></tr></tbody></table>"
      ],
      "text/plain": [
       "20×3 DataFrames.DataFrame\n",
       "│ Row │ Var1       │ Var2    │ Var3 │\n",
       "├─────┼────────────┼─────────┼──────┤\n",
       "│ 1   │ -0.560501  │ 9.83968 │ 13.0 │\n",
       "│ 2   │ -0.0192918 │ 7.81756 │ 15.0 │\n",
       "│ 3   │ 0.128064   │ 8.83897 │ 12.0 │\n",
       "│ 4   │ 1.85278    │ 9.36913 │ 11.0 │\n",
       "│ 5   │ -0.827763  │ 7.2771  │ 14.0 │\n",
       "│ 6   │ 0.110096   │ 9.77109 │ 7.0  │\n",
       "│ 7   │ -0.251176  │ 10.3317 │ 8.0  │\n",
       "│ 8   │ 0.369714   │ 9.18312 │ 12.0 │\n",
       "│ 9   │ 0.0721164  │ 7.98043 │ 13.0 │\n",
       "│ 10  │ -1.50343   │ 8.91239 │ 11.0 │\n",
       "│ 11  │ 1.56417    │ 7.54655 │ 6.0  │\n",
       "│ 12  │ -1.39674   │ 8.91657 │ 9.0  │\n",
       "│ 13  │ 1.1055     │ 8.62701 │ 7.0  │\n",
       "│ 14  │ -1.10673   │ 8.57414 │ 9.0  │\n",
       "│ 15  │ -3.21136   │ 9.34588 │ 5.0  │\n",
       "│ 16  │ -0.0740145 │ 11.0297 │ 15.0 │\n",
       "│ 17  │ 0.150976   │ 14.8349 │ 11.0 │\n",
       "│ 18  │ 0.769278   │ 9.38405 │ 6.0  │\n",
       "│ 19  │ -0.310153  │ 12.4906 │ 6.0  │\n",
       "│ 20  │ -0.602707  │ 9.9001  │ 12.0 │"
      ]
     },
     "execution_count": 11,
     "metadata": {},
     "output_type": "execute_result"
    }
   ],
   "source": [
    "# select last 20 rows of df\n",
    "df2 = df[11:end, :]"
   ]
  },
  {
   "cell_type": "code",
   "execution_count": 12,
   "metadata": {
    "collapsed": false
   },
   "outputs": [
    {
     "name": "stdout",
     "output_type": "stream",
     "text": [
      "Var1\n",
      "Min      -3.2113596499239088\n",
      "1st Qu.  -0.658971025840327\n",
      "Median   -0.046653162057146216\n",
      "Mean     -0.18705834129794577\n",
      "3rd Qu.  0.20566022198204725\n",
      "Max      1.852782957725545\n",
      "NAs      0\n",
      "NA%      0.0%\n",
      "\n",
      "Var2\n",
      "Min      7.277104750127766\n",
      "1st Qu.  8.6137937144775\n",
      "Median   9.264503071720595\n",
      "Mean     9.498533442121975\n",
      "3rd Qu.  9.85478115543041\n",
      "Max      14.83494669573609\n",
      "NAs      0\n",
      "NA%      0.0%\n",
      "\n",
      "Var3\n",
      "Min      5.0\n",
      "1st Qu.  7.0\n",
      "Median   11.0\n",
      "Mean     10.1\n",
      "3rd Qu.  12.25\n",
      "Max      15.0\n",
      "NAs      0\n",
      "NA%      0.0%\n",
      "\n"
     ]
    }
   ],
   "source": [
    "# descriptive statistics of all the columns in df2 \n",
    "describe(df2)"
   ]
  },
  {
   "cell_type": "code",
   "execution_count": 13,
   "metadata": {
    "collapsed": false
   },
   "outputs": [
    {
     "data": {
      "text/html": [
       "<table class=\"data-frame\"><thead><tr><th></th><th>Var1</th><th>Var2</th><th>Var3</th><th>Cat1</th></tr></thead><tbody><tr><th>1</th><td>-0.5605013381807765</td><td>9.839675028109456</td><td>13.0</td><td>GroupB</td></tr><tr><th>2</th><td>-0.019291781689849075</td><td>7.817561571472174</td><td>15.0</td><td>GroupB</td></tr><tr><th>3</th><td>0.12806443451512645</td><td>8.838966909913154</td><td>12.0</td><td>GroupA</td></tr><tr><th>4</th><td>1.852782957725545</td><td>9.369125507803343</td><td>11.0</td><td>GroupA</td></tr><tr><th>5</th><td>-0.8277634318169205</td><td>7.277104750127766</td><td>14.0</td><td>GroupA</td></tr><tr><th>6</th><td>0.11009612632217552</td><td>9.771085599530537</td><td>7.0</td><td>GroupA</td></tr><tr><th>7</th><td>-0.2511757400198831</td><td>10.331673935031448</td><td>8.0</td><td>GroupB</td></tr><tr><th>8</th><td>0.3697140350317453</td><td>9.183123935614699</td><td>12.0</td><td>GroupB</td></tr><tr><th>9</th><td>0.07211635315125874</td><td>7.980432962997206</td><td>13.0</td><td>GroupB</td></tr><tr><th>10</th><td>-1.503429457351051</td><td>8.912390302719606</td><td>11.0</td><td>GroupB</td></tr><tr><th>11</th><td>1.5641682355362416</td><td>7.546550547981303</td><td>6.0</td><td>GroupA</td></tr><tr><th>12</th><td>-1.3967353668333795</td><td>8.916568560491257</td><td>9.0</td><td>GroupB</td></tr><tr><th>13</th><td>1.1054978391059092</td><td>8.627012926971657</td><td>7.0</td><td>GroupA</td></tr><tr><th>14</th><td>-1.1067299135255761</td><td>8.57413607699503</td><td>9.0</td><td>GroupB</td></tr><tr><th>15</th><td>-3.2113596499239088</td><td>9.345882207826492</td><td>5.0</td><td>GroupA</td></tr><tr><th>16</th><td>-0.07401454242444336</td><td>11.029672333898263</td><td>15.0</td><td>GroupB</td></tr><tr><th>17</th><td>0.1509756176321479</td><td>14.83494669573609</td><td>11.0</td><td>GroupB</td></tr><tr><th>18</th><td>0.7692782605345824</td><td>9.384052680112044</td><td>6.0</td><td>GroupA</td></tr><tr><th>19</th><td>-0.31015257323306406</td><td>12.490606771714688</td><td>6.0</td><td>GroupA</td></tr><tr><th>20</th><td>-0.6027068905147959</td><td>9.900099537393276</td><td>12.0</td><td>GroupA</td></tr></tbody></table>"
      ],
      "text/plain": [
       "20×4 DataFrames.DataFrame\n",
       "│ Row │ Var1       │ Var2    │ Var3 │ Cat1     │\n",
       "├─────┼────────────┼─────────┼──────┼──────────┤\n",
       "│ 1   │ -0.560501  │ 9.83968 │ 13.0 │ \"GroupB\" │\n",
       "│ 2   │ -0.0192918 │ 7.81756 │ 15.0 │ \"GroupB\" │\n",
       "│ 3   │ 0.128064   │ 8.83897 │ 12.0 │ \"GroupA\" │\n",
       "│ 4   │ 1.85278    │ 9.36913 │ 11.0 │ \"GroupA\" │\n",
       "│ 5   │ -0.827763  │ 7.2771  │ 14.0 │ \"GroupA\" │\n",
       "│ 6   │ 0.110096   │ 9.77109 │ 7.0  │ \"GroupA\" │\n",
       "│ 7   │ -0.251176  │ 10.3317 │ 8.0  │ \"GroupB\" │\n",
       "│ 8   │ 0.369714   │ 9.18312 │ 12.0 │ \"GroupB\" │\n",
       "│ 9   │ 0.0721164  │ 7.98043 │ 13.0 │ \"GroupB\" │\n",
       "│ 10  │ -1.50343   │ 8.91239 │ 11.0 │ \"GroupB\" │\n",
       "│ 11  │ 1.56417    │ 7.54655 │ 6.0  │ \"GroupA\" │\n",
       "│ 12  │ -1.39674   │ 8.91657 │ 9.0  │ \"GroupB\" │\n",
       "│ 13  │ 1.1055     │ 8.62701 │ 7.0  │ \"GroupA\" │\n",
       "│ 14  │ -1.10673   │ 8.57414 │ 9.0  │ \"GroupB\" │\n",
       "│ 15  │ -3.21136   │ 9.34588 │ 5.0  │ \"GroupA\" │\n",
       "│ 16  │ -0.0740145 │ 11.0297 │ 15.0 │ \"GroupB\" │\n",
       "│ 17  │ 0.150976   │ 14.8349 │ 11.0 │ \"GroupB\" │\n",
       "│ 18  │ 0.769278   │ 9.38405 │ 6.0  │ \"GroupA\" │\n",
       "│ 19  │ -0.310153  │ 12.4906 │ 6.0  │ \"GroupA\" │\n",
       "│ 20  │ -0.602707  │ 9.9001  │ 12.0 │ \"GroupA\" │"
      ]
     },
     "execution_count": 13,
     "metadata": {},
     "output_type": "execute_result"
    }
   ],
   "source": [
    "# add group column\n",
    "df2[:Cat1] = rand([\"GroupA\",\"GroupB\"], size(df2)[1])\n",
    "df2"
   ]
  },
  {
   "cell_type": "code",
   "execution_count": 14,
   "metadata": {
    "collapsed": false
   },
   "outputs": [
    {
     "data": {
      "text/html": [
       "<table class=\"data-frame\"><thead><tr><th></th><th>A</th><th>B</th><th>C</th></tr></thead><tbody><tr><th>1</th><td>1</td><td>21</td><td>41</td></tr><tr><th>2</th><td>2</td><td>22</td><td>42</td></tr><tr><th>3</th><td>3</td><td>23</td><td>43</td></tr><tr><th>4</th><td>4</td><td>24</td><td>44</td></tr><tr><th>5</th><td>5</td><td>25</td><td>45</td></tr><tr><th>6</th><td>6</td><td>26</td><td>46</td></tr><tr><th>7</th><td>7</td><td>27</td><td>47</td></tr><tr><th>8</th><td>8</td><td>28</td><td>48</td></tr><tr><th>9</th><td>9</td><td>29</td><td>49</td></tr><tr><th>10</th><td>10</td><td>30</td><td>50</td></tr><tr><th>11</th><td>11</td><td>31</td><td>51</td></tr><tr><th>12</th><td>12</td><td>32</td><td>52</td></tr><tr><th>13</th><td>13</td><td>33</td><td>53</td></tr><tr><th>14</th><td>14</td><td>34</td><td>54</td></tr><tr><th>15</th><td>15</td><td>35</td><td>55</td></tr><tr><th>16</th><td>16</td><td>36</td><td>56</td></tr><tr><th>17</th><td>17</td><td>37</td><td>57</td></tr><tr><th>18</th><td>18</td><td>38</td><td>58</td></tr><tr><th>19</th><td>19</td><td>39</td><td>59</td></tr><tr><th>20</th><td>20</td><td>40</td><td>60</td></tr></tbody></table>"
      ],
      "text/plain": [
       "20×3 DataFrames.DataFrame\n",
       "│ Row │ A  │ B  │ C  │\n",
       "├─────┼────┼────┼────┤\n",
       "│ 1   │ 1  │ 21 │ 41 │\n",
       "│ 2   │ 2  │ 22 │ 42 │\n",
       "│ 3   │ 3  │ 23 │ 43 │\n",
       "│ 4   │ 4  │ 24 │ 44 │\n",
       "│ 5   │ 5  │ 25 │ 45 │\n",
       "│ 6   │ 6  │ 26 │ 46 │\n",
       "│ 7   │ 7  │ 27 │ 47 │\n",
       "│ 8   │ 8  │ 28 │ 48 │\n",
       "│ 9   │ 9  │ 29 │ 49 │\n",
       "│ 10  │ 10 │ 30 │ 50 │\n",
       "│ 11  │ 11 │ 31 │ 51 │\n",
       "│ 12  │ 12 │ 32 │ 52 │\n",
       "│ 13  │ 13 │ 33 │ 53 │\n",
       "│ 14  │ 14 │ 34 │ 54 │\n",
       "│ 15  │ 15 │ 35 │ 55 │\n",
       "│ 16  │ 16 │ 36 │ 56 │\n",
       "│ 17  │ 17 │ 37 │ 57 │\n",
       "│ 18  │ 18 │ 38 │ 58 │\n",
       "│ 19  │ 19 │ 39 │ 59 │\n",
       "│ 20  │ 20 │ 40 │ 60 │"
      ]
     },
     "execution_count": 14,
     "metadata": {},
     "output_type": "execute_result"
    }
   ],
   "source": [
    "# create new data frame\n",
    "df3 = DataFrame(A = 1:20, B = 21:40, C = 41:60)"
   ]
  },
  {
   "cell_type": "code",
   "execution_count": 15,
   "metadata": {
    "collapsed": false
   },
   "outputs": [
    {
     "data": {
      "text/html": [
       "<table class=\"data-frame\"><thead><tr><th></th><th>A</th><th>B</th><th>C</th></tr></thead><tbody><tr><th>1</th><td>1</td><td>21</td><td>41</td></tr><tr><th>2</th><td>2</td><td>22</td><td>42</td></tr><tr><th>3</th><td>3</td><td>23</td><td>43</td></tr><tr><th>4</th><td>4</td><td>24</td><td>44</td></tr><tr><th>5</th><td>5</td><td>25</td><td>45</td></tr><tr><th>6</th><td>6</td><td>26</td><td>46</td></tr><tr><th>7</th><td>7</td><td>27</td><td>47</td></tr><tr><th>8</th><td>8</td><td>28</td><td>48</td></tr><tr><th>9</th><td>9</td><td>29</td><td>49</td></tr><tr><th>10</th><td>NA</td><td>30</td><td>50</td></tr><tr><th>11</th><td>11</td><td>31</td><td>51</td></tr><tr><th>12</th><td>12</td><td>32</td><td>52</td></tr><tr><th>13</th><td>13</td><td>33</td><td>53</td></tr><tr><th>14</th><td>14</td><td>34</td><td>54</td></tr><tr><th>15</th><td>15</td><td>NA</td><td>55</td></tr><tr><th>16</th><td>16</td><td>36</td><td>56</td></tr><tr><th>17</th><td>17</td><td>37</td><td>57</td></tr><tr><th>18</th><td>18</td><td>38</td><td>58</td></tr><tr><th>19</th><td>19</td><td>39</td><td>NA</td></tr><tr><th>20</th><td>20</td><td>40</td><td>60</td></tr></tbody></table>"
      ],
      "text/plain": [
       "20×3 DataFrames.DataFrame\n",
       "│ Row │ A  │ B  │ C  │\n",
       "├─────┼────┼────┼────┤\n",
       "│ 1   │ 1  │ 21 │ 41 │\n",
       "│ 2   │ 2  │ 22 │ 42 │\n",
       "│ 3   │ 3  │ 23 │ 43 │\n",
       "│ 4   │ 4  │ 24 │ 44 │\n",
       "│ 5   │ 5  │ 25 │ 45 │\n",
       "│ 6   │ 6  │ 26 │ 46 │\n",
       "│ 7   │ 7  │ 27 │ 47 │\n",
       "│ 8   │ 8  │ 28 │ 48 │\n",
       "│ 9   │ 9  │ 29 │ 49 │\n",
       "│ 10  │ NA │ 30 │ 50 │\n",
       "│ 11  │ 11 │ 31 │ 51 │\n",
       "│ 12  │ 12 │ 32 │ 52 │\n",
       "│ 13  │ 13 │ 33 │ 53 │\n",
       "│ 14  │ 14 │ 34 │ 54 │\n",
       "│ 15  │ 15 │ NA │ 55 │\n",
       "│ 16  │ 16 │ 36 │ 56 │\n",
       "│ 17  │ 17 │ 37 │ 57 │\n",
       "│ 18  │ 18 │ 38 │ 58 │\n",
       "│ 19  │ 19 │ 39 │ NA │\n",
       "│ 20  │ 20 │ 40 │ 60 │"
      ]
     },
     "execution_count": 15,
     "metadata": {},
     "output_type": "execute_result"
    }
   ],
   "source": [
    "# change values to NA\n",
    "df3[10,1] = NA\n",
    "df3[15,2] = NA\n",
    "df3[19,3] = NA\n",
    "df3"
   ]
  },
  {
   "cell_type": "code",
   "execution_count": 16,
   "metadata": {
    "collapsed": false
   },
   "outputs": [
    {
     "data": {
      "text/html": [
       "<table class=\"data-frame\"><thead><tr><th></th><th>A</th><th>B</th><th>C</th></tr></thead><tbody><tr><th>1</th><td>1</td><td>21</td><td>41</td></tr><tr><th>2</th><td>2</td><td>22</td><td>42</td></tr><tr><th>3</th><td>3</td><td>23</td><td>43</td></tr><tr><th>4</th><td>4</td><td>24</td><td>44</td></tr><tr><th>5</th><td>5</td><td>25</td><td>45</td></tr><tr><th>6</th><td>6</td><td>26</td><td>46</td></tr><tr><th>7</th><td>7</td><td>27</td><td>47</td></tr><tr><th>8</th><td>8</td><td>28</td><td>48</td></tr><tr><th>9</th><td>9</td><td>29</td><td>49</td></tr><tr><th>10</th><td>11</td><td>31</td><td>51</td></tr><tr><th>11</th><td>12</td><td>32</td><td>52</td></tr><tr><th>12</th><td>13</td><td>33</td><td>53</td></tr><tr><th>13</th><td>14</td><td>34</td><td>54</td></tr><tr><th>14</th><td>16</td><td>36</td><td>56</td></tr><tr><th>15</th><td>17</td><td>37</td><td>57</td></tr><tr><th>16</th><td>18</td><td>38</td><td>58</td></tr><tr><th>17</th><td>20</td><td>40</td><td>60</td></tr></tbody></table>"
      ],
      "text/plain": [
       "17×3 DataFrames.DataFrame\n",
       "│ Row │ A  │ B  │ C  │\n",
       "├─────┼────┼────┼────┤\n",
       "│ 1   │ 1  │ 21 │ 41 │\n",
       "│ 2   │ 2  │ 22 │ 42 │\n",
       "│ 3   │ 3  │ 23 │ 43 │\n",
       "│ 4   │ 4  │ 24 │ 44 │\n",
       "│ 5   │ 5  │ 25 │ 45 │\n",
       "│ 6   │ 6  │ 26 │ 46 │\n",
       "│ 7   │ 7  │ 27 │ 47 │\n",
       "│ 8   │ 8  │ 28 │ 48 │\n",
       "│ 9   │ 9  │ 29 │ 49 │\n",
       "│ 10  │ 11 │ 31 │ 51 │\n",
       "│ 11  │ 12 │ 32 │ 52 │\n",
       "│ 12  │ 13 │ 33 │ 53 │\n",
       "│ 13  │ 14 │ 34 │ 54 │\n",
       "│ 14  │ 16 │ 36 │ 56 │\n",
       "│ 15  │ 17 │ 37 │ 57 │\n",
       "│ 16  │ 18 │ 38 │ 58 │\n",
       "│ 17  │ 20 │ 40 │ 60 │"
      ]
     },
     "execution_count": 16,
     "metadata": {},
     "output_type": "execute_result"
    }
   ],
   "source": [
    "# only use complete rows \n",
    "df4 = df3[complete_cases(df3), :]"
   ]
  }
 ],
 "metadata": {
  "kernelspec": {
   "display_name": "Julia 0.4.7",
   "language": "julia",
   "name": "julia-0.4"
  },
  "language_info": {
   "file_extension": ".jl",
   "mimetype": "application/julia",
   "name": "julia",
   "version": "0.4.7"
  }
 },
 "nbformat": 4,
 "nbformat_minor": 0
}
